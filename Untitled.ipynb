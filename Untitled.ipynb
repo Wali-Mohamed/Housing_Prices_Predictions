{
 "cells": [
  {
   "cell_type": "markdown",
   "id": "1cbedfce-c457-4813-ab9a-33406ddd97d4",
   "metadata": {},
   "source": [
    "# Geopy"
   ]
  },
  {
   "cell_type": "code",
   "execution_count": 3,
   "id": "a0c6986a-d392-40c5-abb6-c2e3e4af4b9d",
   "metadata": {},
   "outputs": [],
   "source": [
    "from geopy import Nominatim\n",
    "import numpy as np"
   ]
  },
  {
   "cell_type": "code",
   "execution_count": 29,
   "id": "b52bb684-a239-424e-ba28-d30acf66faa8",
   "metadata": {},
   "outputs": [],
   "source": [
    "geolocator=Nominatim(user_agent='AI Team')"
   ]
  },
  {
   "cell_type": "code",
   "execution_count": 30,
   "id": "414c5646-20b3-4f1d-8c18-ab018da89f55",
   "metadata": {},
   "outputs": [],
   "source": [
    "home1='1000 main street, Tucson'\n",
    "home2='nehru road mombasa'"
   ]
  },
  {
   "cell_type": "code",
   "execution_count": 31,
   "id": "8294e312-537e-4760-8a47-0862a80f50ce",
   "metadata": {},
   "outputs": [
    {
     "data": {
      "text/plain": [
       "Location(Nehru Road, Mombasa, Coastal Kenya, 80100, Kenya, (-4.0579438, 39.6745639, 0.0))"
      ]
     },
     "execution_count": 31,
     "metadata": {},
     "output_type": "execute_result"
    }
   ],
   "source": [
    "location=geolocator.geocode(home2)\n",
    "location"
   ]
  },
  {
   "cell_type": "code",
   "execution_count": 32,
   "id": "f27b770d-246d-4115-958e-f21e59712b91",
   "metadata": {},
   "outputs": [
    {
     "data": {
      "text/plain": [
       "{'place_id': 127896959,\n",
       " 'licence': 'Data © OpenStreetMap contributors, ODbL 1.0. https://osm.org/copyright',\n",
       " 'osm_type': 'way',\n",
       " 'osm_id': 99398731,\n",
       " 'boundingbox': ['-4.058427', '-4.0576253', '39.6735162', '39.6755873'],\n",
       " 'lat': '-4.0579438',\n",
       " 'lon': '39.6745639',\n",
       " 'display_name': 'Nehru Road, Mombasa, Coastal Kenya, 80100, Kenya',\n",
       " 'class': 'highway',\n",
       " 'type': 'residential',\n",
       " 'importance': 0.4}"
      ]
     },
     "execution_count": 32,
     "metadata": {},
     "output_type": "execute_result"
    }
   ],
   "source": [
    "location.raw"
   ]
  },
  {
   "cell_type": "code",
   "execution_count": 43,
   "id": "645e9d69-6bf4-47eb-87d8-bc14d56511fd",
   "metadata": {},
   "outputs": [
    {
     "ename": "ValueError",
     "evalue": "object of too small depth for desired array",
     "output_type": "error",
     "traceback": [
      "\u001b[1;31m---------------------------------------------------------------------------\u001b[0m",
      "\u001b[1;31mValueError\u001b[0m                                Traceback (most recent call last)",
      "\u001b[1;32m~\\AppData\\Local\\Temp\\ipykernel_9448\\2174126771.py\u001b[0m in \u001b[0;36m<module>\u001b[1;34m\u001b[0m\n\u001b[0;32m      1\u001b[0m \u001b[0ma\u001b[0m\u001b[1;33m=\u001b[0m\u001b[0mnp\u001b[0m\u001b[1;33m.\u001b[0m\u001b[0mbincount\u001b[0m\u001b[1;33m(\u001b[0m\u001b[0mnp\u001b[0m\u001b[1;33m.\u001b[0m\u001b[0marange\u001b[0m\u001b[1;33m(\u001b[0m\u001b[1;36m5\u001b[0m\u001b[1;33m)\u001b[0m\u001b[1;33m)\u001b[0m\u001b[1;33m\u001b[0m\u001b[1;33m\u001b[0m\u001b[0m\n\u001b[1;32m----> 2\u001b[1;33m \u001b[0mb\u001b[0m\u001b[1;33m=\u001b[0m\u001b[0mnp\u001b[0m\u001b[1;33m.\u001b[0m\u001b[0mbincount\u001b[0m\u001b[1;33m(\u001b[0m\u001b[0mnp\u001b[0m\u001b[1;33m.\u001b[0m\u001b[0marray\u001b[0m\u001b[1;33m(\u001b[0m\u001b[1;33m[\u001b[0m\u001b[1;36m0\u001b[0m\u001b[1;33m,\u001b[0m \u001b[1;36m1\u001b[0m\u001b[1;33m,\u001b[0m \u001b[1;36m1\u001b[0m\u001b[1;33m,\u001b[0m \u001b[1;36m3\u001b[0m\u001b[1;33m,\u001b[0m \u001b[1;36m2\u001b[0m\u001b[1;33m,\u001b[0m \u001b[1;36m1\u001b[0m\u001b[1;33m,\u001b[0m \u001b[1;36m0\u001b[0m\u001b[1;33m]\u001b[0m\u001b[1;33m)\u001b[0m\u001b[1;33m,\u001b[0m \u001b[0mweights\u001b[0m\u001b[1;33m=\u001b[0m\u001b[1;36m3\u001b[0m\u001b[1;33m)\u001b[0m\u001b[1;33m\u001b[0m\u001b[1;33m\u001b[0m\u001b[0m\n\u001b[0m\u001b[0;32m      3\u001b[0m \u001b[0mprint\u001b[0m\u001b[1;33m(\u001b[0m\u001b[0ma\u001b[0m\u001b[1;33m,\u001b[0m\u001b[0mb\u001b[0m\u001b[1;33m)\u001b[0m\u001b[1;33m\u001b[0m\u001b[1;33m\u001b[0m\u001b[0m\n",
      "\u001b[1;32m<__array_function__ internals>\u001b[0m in \u001b[0;36mbincount\u001b[1;34m(*args, **kwargs)\u001b[0m\n",
      "\u001b[1;31mValueError\u001b[0m: object of too small depth for desired array"
     ]
    }
   ],
   "source": [
    "a=np.bincount(np.arange(5))\n",
    "b=np.bincount(np.array([0, 1, 1, 3, 2, 1, 0]), weights=3)\n",
    "print(a,b)\n"
   ]
  },
  {
   "cell_type": "code",
   "execution_count": 42,
   "id": "913bfa44-9503-4cb3-9f79-0e8d2a53a260",
   "metadata": {},
   "outputs": [],
   "source": [
    "def mae(y, y_hat):\n",
    "    total=np.sum(abs(y-y_hat))\n",
    "    return (total/len(y))"
   ]
  },
  {
   "cell_type": "code",
   "execution_count": 43,
   "id": "5ca9bb4e-50f6-4554-aefa-8fedbebcfed4",
   "metadata": {},
   "outputs": [
    {
     "name": "stdout",
     "output_type": "stream",
     "text": [
      "(2,)\n"
     ]
    },
    {
     "data": {
      "text/plain": [
       "(2,)"
      ]
     },
     "execution_count": 43,
     "metadata": {},
     "output_type": "execute_result"
    }
   ],
   "source": [
    "y=np.array([2,4])\n",
    "y_hat=np.array([5,1])\n",
    "y-y_hat\n",
    "print(y.shape)\n",
    "y_hat.shape"
   ]
  },
  {
   "cell_type": "code",
   "execution_count": 44,
   "id": "66feac9f-9a46-4e48-9f0d-bc472808447a",
   "metadata": {},
   "outputs": [
    {
     "data": {
      "text/plain": [
       "3.0"
      ]
     },
     "execution_count": 44,
     "metadata": {},
     "output_type": "execute_result"
    }
   ],
   "source": [
    "mae(y,y_hat)"
   ]
  },
  {
   "cell_type": "code",
   "execution_count": 41,
   "id": "96f170c9-2960-4667-bbc6-7675fca73b9b",
   "metadata": {},
   "outputs": [
    {
     "data": {
      "text/plain": [
       "6"
      ]
     },
     "execution_count": 41,
     "metadata": {},
     "output_type": "execute_result"
    }
   ],
   "source": [
    "np.sum(abs((y-y_hat)))"
   ]
  },
  {
   "cell_type": "code",
   "execution_count": 31,
   "id": "fcaf557f-41d6-4f9c-bf8f-982544e99fef",
   "metadata": {},
   "outputs": [
    {
     "data": {
      "text/plain": [
       "2"
      ]
     },
     "execution_count": 31,
     "metadata": {},
     "output_type": "execute_result"
    }
   ],
   "source": [
    "len(y)"
   ]
  },
  {
   "cell_type": "code",
   "execution_count": 46,
   "id": "ecf74b09-fd86-4a99-8de3-3b1defb20cf8",
   "metadata": {},
   "outputs": [
    {
     "ename": "TypeError",
     "evalue": "only size-1 arrays can be converted to Python scalars",
     "output_type": "error",
     "traceback": [
      "\u001b[1;31m---------------------------------------------------------------------------\u001b[0m",
      "\u001b[1;31mTypeError\u001b[0m                                 Traceback (most recent call last)",
      "\u001b[1;32m~\\AppData\\Local\\Temp\\ipykernel_18252\\598830572.py\u001b[0m in \u001b[0;36m<module>\u001b[1;34m\u001b[0m\n\u001b[1;32m----> 1\u001b[1;33m \u001b[0mint\u001b[0m\u001b[1;33m(\u001b[0m\u001b[0my\u001b[0m\u001b[1;33m-\u001b[0m\u001b[0my_hat\u001b[0m\u001b[1;33m)\u001b[0m\u001b[1;33m\u001b[0m\u001b[1;33m\u001b[0m\u001b[0m\n\u001b[0m",
      "\u001b[1;31mTypeError\u001b[0m: only size-1 arrays can be converted to Python scalars"
     ]
    }
   ],
   "source": [
    "int(y-y_hat)"
   ]
  },
  {
   "cell_type": "code",
   "execution_count": null,
   "id": "4b3115b1-aa27-484f-a3de-5e43994e57eb",
   "metadata": {},
   "outputs": [],
   "source": []
  }
 ],
 "metadata": {
  "kernelspec": {
   "display_name": "Python 3 (ipykernel)",
   "language": "python",
   "name": "python3"
  },
  "language_info": {
   "codemirror_mode": {
    "name": "ipython",
    "version": 3
   },
   "file_extension": ".py",
   "mimetype": "text/x-python",
   "name": "python",
   "nbconvert_exporter": "python",
   "pygments_lexer": "ipython3",
   "version": "3.9.13"
  }
 },
 "nbformat": 4,
 "nbformat_minor": 5
}
